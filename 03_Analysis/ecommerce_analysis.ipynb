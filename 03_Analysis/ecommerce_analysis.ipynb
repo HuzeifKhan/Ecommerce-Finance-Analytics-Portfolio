{
 "cells": [
  {
   "cell_type": "markdown",
   "id": "8aba08f3",
   "metadata": {},
   "source": [
    "# 📘 # 📘 E-commerce & Finance Analytics - Analysis Notebook\n",
    "End-to-end analysis of 500K+ retail transactions: SQL-cleaned dataset → Python EDA → RFM customer segmentation → exportable figures."
   ]
  },
  {
   "cell_type": "markdown",
   "id": "70d11cab",
   "metadata": {},
   "source": [
    "## 1) Imports & Config"
   ]
  },
  {
   "cell_type": "code",
   "execution_count": null,
   "id": "d77139d7",
   "metadata": {},
   "outputs": [],
   "source": [
    "import pandas as pd\n",
    "import numpy as np\n",
    "import matplotlib.pyplot as plt\n",
    "\n",
    "# Plot defaults\n",
    "plt.rcParams[\"figure.figsize\"] = (10, 5)\n",
    "plt.rcParams[\"axes.grid\"] = True\n"
   ]
  },
  {
   "cell_type": "markdown",
   "id": "242e1260",
   "metadata": {},
   "source": [
    "## ⚠️ Suppress Warnings  "
   ]
  },
  {
   "cell_type": "code",
   "execution_count": null,
   "id": "5e25b7d4",
   "metadata": {},
   "outputs": [],
   "source": [
    "import warnings\n",
    "warnings.filterwarnings(\"ignore\")"
   ]
  },
  {
   "cell_type": "markdown",
   "id": "91037d23",
   "metadata": {},
   "source": [
    "## 2) Database Connection Helper"
   ]
  },
  {
   "cell_type": "code",
   "execution_count": null,
   "id": "db512e5f",
   "metadata": {},
   "outputs": [],
   "source": [
    "# Helper: secure MySQL connector for pandas.read_sql\n",
    "from sqlalchemy import create_engine\n",
    "from sqlalchemy.engine import URL\n",
    "import pandas as pd\n",
    "import getpass\n",
    "\n",
    "DB_NAME = \"ecommerce_portfolio\"\n",
    "DB_USER = \"root\"\n",
    "DB_PASS = getpass.getpass(\"MySQL password (not stored): \")\n",
    "\n",
    "# Build a proper URL object (handles special characters in password)\n",
    "url = URL.create(\n",
    "    drivername=\"mysql+mysqlconnector\",\n",
    "    username=DB_USER,\n",
    "    password=DB_PASS,\n",
    "    host=\"localhost\",\n",
    "    database=DB_NAME,\n",
    ")\n",
    "\n",
    "def read_sql(query: str) -> pd.DataFrame:\n",
    "    engine = create_engine(url)\n",
    "    with engine.connect() as conn:\n",
    "        return pd.read_sql(query, conn)\n",
    "\n"
   ]
  },
  {
   "cell_type": "markdown",
   "id": "a484a008",
   "metadata": {},
   "source": [
    "## 3) Load Cleaned Data\n"
   ]
  },
  {
   "cell_type": "code",
   "execution_count": null,
   "id": "4a014569",
   "metadata": {},
   "outputs": [],
   "source": [
    "df = read_sql(\"SELECT * FROM cleaned_transactions;\")\n",
    "print(df.shape)\n",
    "df.head()\n"
   ]
  },
  {
   "cell_type": "markdown",
   "id": "5eabc285",
   "metadata": {},
   "source": [
    "## 4) Exploratory Data Analysis (EDA)\n"
   ]
  },
  {
   "cell_type": "code",
   "execution_count": null,
   "id": "72634aad",
   "metadata": {},
   "outputs": [],
   "source": [
    "# Basic structure\n",
    "print(\"Shape of dataset:\", df.shape)\n",
    "print(\"\\nColumns:\")\n",
    "print(df.columns.tolist())\n",
    "\n",
    "print(\"\\nSummary statistics:\")\n",
    "display(df.describe())\n",
    "\n",
    "print(\"\\nMissing values per column:\")\n",
    "display(df.isna().sum())\n"
   ]
  },
  {
   "cell_type": "code",
   "execution_count": null,
   "id": "7a07524e",
   "metadata": {},
   "outputs": [],
   "source": [
    "total_revenue = df.loc[df['IsReturn'] == 0, 'LineAmount'].sum()\n",
    "print(f\"💰 Total Revenue (excluding returns): €{total_revenue:,.2f}\")\n"
   ]
  },
  {
   "cell_type": "code",
   "execution_count": null,
   "id": "f496866c",
   "metadata": {},
   "outputs": [],
   "source": [
    "top_products = (\n",
    "    df[df['IsReturn'] == 0]\n",
    "    .groupby('Description', as_index=False)['LineAmount']\n",
    "    .sum()\n",
    "    .sort_values(by='LineAmount', ascending=False)\n",
    "    .head(10)\n",
    ")\n",
    "\n",
    "display(top_products)\n"
   ]
  },
  {
   "cell_type": "code",
   "execution_count": null,
   "id": "690d0711",
   "metadata": {},
   "outputs": [],
   "source": [
    "monthly_revenue = (\n",
    "    df[df['IsReturn'] == 0]\n",
    "    .groupby(['InvoiceYear', 'InvoiceMonth'], as_index=False)['LineAmount']\n",
    "    .sum()\n",
    ")\n",
    "\n",
    "monthly_revenue['YearMonth'] = (\n",
    "    monthly_revenue['InvoiceYear'].astype(str)\n",
    "    + '-' +\n",
    "    monthly_revenue['InvoiceMonth'].astype(str).str.zfill(2)\n",
    ")\n",
    "\n",
    "display(monthly_revenue)\n"
   ]
  },
  {
   "cell_type": "markdown",
   "id": "2141fe3a",
   "metadata": {},
   "source": [
    "## 🎨 Global Visualization Theme"
   ]
  },
  {
   "cell_type": "code",
   "execution_count": null,
   "id": "61070a2f",
   "metadata": {},
   "outputs": [],
   "source": [
    "plt.style.use('dark_background')\n",
    "\n",
    "# Custom neon color palette\n",
    "neon_colors = {\n",
    "    \"blue\": \"#00FFFF\",    # cyan\n",
    "    \"purple\": \"#B026FF\",  # violet\n",
    "    \"pink\": \"#FF00FF\",    # magenta\n",
    "    \"green\": \"#39FF14\",   # bright green\n",
    "    \"yellow\": \"#FFFF33\",  # neon yellow\n",
    "    \"orange\": \"#FFA500\",  # orange\n",
    "    \"red\": \"#FF3131\"      # hot red\n",
    "}\n",
    "\n",
    "# Update general plot style\n",
    "plt.rcParams.update({\n",
    "    \"axes.facecolor\": \"#0A0A0A\",\n",
    "    \"figure.facecolor\": \"#0A0A0A\",\n",
    "    \"axes.edgecolor\": neon_colors[\"blue\"],\n",
    "    \"axes.labelcolor\": \"white\",\n",
    "    \"xtick.color\": \"#CCCCCC\",\n",
    "    \"ytick.color\": \"#CCCCCC\",\n",
    "    \"grid.color\": \"#222222\",\n",
    "    \"font.family\": \"monospace\",\n",
    "    \"axes.titleweight\": \"bold\",\n",
    "    \"axes.titlepad\": 15,\n",
    "})\n"
   ]
  },
  {
   "cell_type": "code",
   "execution_count": null,
   "id": "4cf197dd",
   "metadata": {},
   "outputs": [],
   "source": [
    "import matplotlib.pyplot as plt\n",
    "\n",
    "# --- Neon Theme Setup ---\n",
    "plt.style.use('dark_background')\n",
    "\n",
    "BG      = \"#0B0B1E\"   # deep navy\n",
    "GRID    = \"#1F2340\"   # soft grid\n",
    "AX      = \"#C9D1D9\"   # text color\n",
    "TITLE   = \"#FF4FD8\"   # neon pink\n",
    "CYAN    = \"#00CFFF\"\n",
    "PINK    = \"#FF0080\"\n",
    "\n",
    "# --- Draw the Chart ---\n",
    "fig, ax = plt.subplots(figsize=(10,5), facecolor=BG)\n",
    "\n",
    "# Background & grid styling\n",
    "ax.set_facecolor(BG)\n",
    "for spine in ax.spines.values():\n",
    "    spine.set_color(GRID)\n",
    "    spine.set_linewidth(1.2)\n",
    "ax.tick_params(colors=AX, labelsize=10)\n",
    "ax.grid(True, color=GRID, linewidth=0.8, alpha=0.6)\n",
    "\n",
    "# Plot\n",
    "ax.plot(\n",
    "    monthly_revenue['YearMonth'], \n",
    "    monthly_revenue['LineAmount'], \n",
    "    color=CYAN, \n",
    "    linewidth=2.5, \n",
    "    marker='o', \n",
    "    markersize=5, \n",
    "    markerfacecolor=PINK, \n",
    "    markeredgecolor=BG\n",
    ")\n",
    "\n",
    "# Labels & Title\n",
    "ax.set_title('📈 Monthly Revenue Trend', color=TITLE, fontsize=14, fontweight='bold', pad=14)\n",
    "ax.set_xlabel('Month', color=AX, fontsize=11)\n",
    "ax.set_ylabel('Revenue (€)', color=AX, fontsize=11)\n",
    "plt.xticks(rotation=45, ha='right')\n",
    "\n",
    "# Layout & Display\n",
    "plt.tight_layout()\n",
    "plt.show()\n",
    "\n",
    "\n"
   ]
  },
  {
   "cell_type": "markdown",
   "id": "0baf1e10",
   "metadata": {},
   "source": [
    "## 5) Customer Segmentation (RFM)\n",
    "Compute **Recency, Frequency, Monetary** per customer, score into quantiles, and segment.\n"
   ]
  },
  {
   "cell_type": "code",
   "execution_count": null,
   "id": "c2562671",
   "metadata": {},
   "outputs": [],
   "source": [
    "# RFM Analysis: Recency, Frequency, Monetary\n",
    "\n",
    "from datetime import datetime\n",
    "\n",
    "# Filter out returns for monetary value\n",
    "rfm_df = df[df['IsReturn'] == 0].copy()\n",
    "\n",
    "# Define Recency using the max invoice date\n",
    "latest_date = rfm_df['InvoiceDate'].max()\n",
    "\n",
    "# Calculate RFM\n",
    "rfm = (\n",
    "    rfm_df.groupby('CustomerID', as_index=False)\n",
    "    .agg({\n",
    "        'InvoiceDate': lambda x: (latest_date - x.max()).days,  # Recency\n",
    "        'InvoiceNo': 'nunique',  # Frequency\n",
    "        'LineAmount': 'sum'  # Monetary\n",
    "    })\n",
    "    .rename(columns={'InvoiceDate': 'Recency', 'InvoiceNo': 'Frequency', 'LineAmount': 'Monetary'})\n",
    ")\n",
    "\n",
    "rfm.head()\n"
   ]
  },
  {
   "cell_type": "code",
   "execution_count": null,
   "id": "630486fa",
   "metadata": {},
   "outputs": [],
   "source": [
    "rfm.describe()\n"
   ]
  },
  {
   "cell_type": "markdown",
   "id": "fb08112d",
   "metadata": {},
   "source": [
    "## 📊 6) RFM Scoring  \n",
    "I assign quantile-based scores (1–5) to each **Recency**, **Frequency**, and **Monetary** value, where:  \n",
    "- **Recency** → Lower days = higher score  \n",
    "- **Frequency** → More transactions = higher score  \n",
    "- **Monetary** → More spending = higher score  \n",
    "\n",
    "Each customer gets an `RFM_Score` = **R + F + M**, forming the basis for segmentation.\n"
   ]
  },
  {
   "cell_type": "code",
   "execution_count": null,
   "id": "aec17eaa",
   "metadata": {},
   "outputs": [],
   "source": [
    "# Quantile-based scoring (1–5)\n",
    "r_labels = range(5, 0, -1)  # 5 = recent, 1 = old\n",
    "f_labels = range(1, 6)      # 1 = rare, 5 = frequent\n",
    "m_labels = range(1, 6)      # 1 = low spend, 5 = high spend\n",
    "\n",
    "r_quartiles = pd.qcut(rfm['Recency'], 5, labels=r_labels)\n",
    "f_quartiles = pd.qcut(rfm['Frequency'].rank(method='first'), 5, labels=f_labels)\n",
    "m_quartiles = pd.qcut(rfm['Monetary'], 5, labels=m_labels)\n",
    "\n",
    "rfm = rfm.assign(\n",
    "    R=r_quartiles.astype(int),\n",
    "    F=f_quartiles.astype(int),\n",
    "    M=m_quartiles.astype(int)\n",
    ")\n",
    "\n",
    "rfm['RFM_Score'] = rfm[['R', 'F', 'M']].sum(axis=1)\n",
    "rfm.head()\n"
   ]
  },
  {
   "cell_type": "code",
   "execution_count": null,
   "id": "3ecc2a9e",
   "metadata": {},
   "outputs": [],
   "source": [
    "rfm['RFM_Score'].describe()\n",
    "rfm['RFM_Score'].value_counts().sort_index()\n"
   ]
  },
  {
   "cell_type": "markdown",
   "id": "07aac67d",
   "metadata": {},
   "source": [
    "## 🧠 7) Customer Segmentation  \n",
    "Using total RFM scores, customers are categorized into four behavioral groups:  \n",
    "- 💎 **Champions** — Very recent, frequent, and high spenders.  \n",
    "- 💼 **Loyal Customers** — Purchase often but not necessarily recently.  \n",
    "- 🌱 **Regular Buyers** — Moderate spenders with steady activity.  \n",
    "- ⚠️ **At Risk / Lost** — Haven’t purchased in a long time or spent little.  \n",
    "\n",
    "This enables focused marketing and retention strategies.\n"
   ]
  },
  {
   "cell_type": "code",
   "execution_count": null,
   "id": "f2f5654c",
   "metadata": {},
   "outputs": [],
   "source": [
    "def segment_customer(score):\n",
    "    if score >= 12:\n",
    "        return '💎 Champions'\n",
    "    elif score >= 9:\n",
    "        return '💼 Loyal Customers'\n",
    "    elif score >= 6:\n",
    "        return '🌱 Regular Buyers'\n",
    "    else:\n",
    "        return '⚠️ At Risk / Lost'\n",
    "\n",
    "rfm['Segment'] = rfm['RFM_Score'].apply(segment_customer)\n",
    "rfm.head(10)\n"
   ]
  },
  {
   "cell_type": "code",
   "execution_count": null,
   "id": "51e44351",
   "metadata": {},
   "outputs": [],
   "source": [
    "segment_summary = rfm['Segment'].value_counts().reset_index()\n",
    "segment_summary.columns = ['Segment', 'Customers']\n",
    "segment_summary\n"
   ]
  },
  {
   "cell_type": "markdown",
   "id": "ff45936f",
   "metadata": {},
   "source": [
    "## 📈 8) Segment Distribution Visualization  \n",
    "A pie chart illustrates the proportion of customers in each RFM segment, showing the business’s **customer base composition** at a glance.  \n"
   ]
  },
  {
   "cell_type": "code",
   "execution_count": null,
   "id": "766801a0",
   "metadata": {},
   "outputs": [],
   "source": [
    "plt.style.use('dark_background')\n",
    "\n",
    "gradient_colors = [\n",
    "    \"#7A00FF\",   # violet-purple\n",
    "    \"#FF0080\",   # hot pink\n",
    "    \"#FF6A00\",   # orange\n",
    "    \"#00CFFF\"    # cyan-blue\n",
    "]\n",
    "\n",
    "plt.figure(figsize=(6,6), facecolor=\"#0B0B1E\")  # dark navy background\n",
    "\n",
    "# Full pie chart\n",
    "wedges, texts, autotexts = plt.pie(\n",
    "    segment_summary['Customers'],\n",
    "    labels=segment_summary['Segment'],\n",
    "    autopct='%1.1f%%',\n",
    "    startangle=120,\n",
    "    colors=gradient_colors,\n",
    "    textprops={'color':'white', 'fontsize':10},\n",
    "    wedgeprops=dict(edgecolor=\"#0B0B1E\", linewidth=2)\n",
    ")\n",
    "\n",
    "# Title styling\n",
    "plt.title('🧠 Customer Segmentation (RFM Model)',\n",
    "          color=\"#FF4FD8\", fontsize=14, fontweight='bold', pad=20)\n",
    "\n",
    "# Slight outer glow effect (cleaner look)\n",
    "for w in wedges:\n",
    "    w.set_linewidth(1.2)\n",
    "    w.set_edgecolor('#121232')\n",
    "\n",
    "plt.tight_layout()\n",
    "plt.show()\n",
    "\n",
    "\n"
   ]
  },
  {
   "cell_type": "markdown",
   "id": "b8d24dcd",
   "metadata": {},
   "source": [
    "## 💾 9) Export Processed Results  \n",
    "All key outputs (cleaned CSVs and figures) are saved automatically for reporting and dashboarding:  \n",
    "\n",
    "| File | Description |\n",
    "|------|--------------|\n",
    "| `customer_rfm_segments.csv` | Final RFM scores & segments per customer |\n",
    "| `monthly_revenue.csv` | Monthly aggregated revenue data |\n",
    "| `top_products.csv` | Top 10 highest-grossing products |\n",
    "| `rfm_segments.png` | Pie chart — Customer segments |\n",
    "| `monthly_revenue.png` | Line chart — Monthly sales trend |\n",
    "| `top_products.png` | Bar chart — Product performance |\n",
    "\n",
    "These are stored under:\n"
   ]
  },
  {
   "cell_type": "code",
   "execution_count": null,
   "id": "99bcace8",
   "metadata": {},
   "outputs": [],
   "source": [
    "# --- Export Section ---\n",
    "import os\n",
    "\n",
    "out_dir = \"../01_Data/processed\"\n",
    "fig_dir = \"../03_Analysis/figures\"\n",
    "os.makedirs(out_dir, exist_ok=True)\n",
    "os.makedirs(fig_dir, exist_ok=True)\n",
    "\n",
    "# Save CSVs\n",
    "rfm.to_csv(os.path.join(out_dir, \"customer_rfm_segments.csv\"), index=False)\n",
    "monthly_revenue[['YearMonth','LineAmount']].to_csv(os.path.join(out_dir, \"monthly_revenue.csv\"), index=False)\n",
    "top_products.to_csv(os.path.join(out_dir, \"top_products.csv\"), index=False)\n",
    "\n",
    "print(\"✅ Saved CSVs to:\", out_dir)\n",
    "print(\"✅ Saved figures to:\", fig_dir)\n"
   ]
  },
  {
   "cell_type": "markdown",
   "id": "e47e60c1",
   "metadata": {},
   "source": [
    "## 🎨 10) Final Visualization & Data Export  \n",
    "This section combines all **key visuals and datasets** into one export pipeline.  \n",
    "\n",
    "It automatically:  \n",
    "- Saves **RFM segments**, **monthly revenue**, and **top products** as CSVs  \n",
    "- Generates **Cyberpunk-themed charts** for GitHub portfolio display  \n",
    "- Stores them neatly in  \n",
    "  - 📁 `01_Data/processed/`  \n",
    "  - 📁 `03_Analysis/figures/`  \n",
    "\n",
    "These outputs are used for reports, dashboards, and README visual embeds.\n"
   ]
  },
  {
   "cell_type": "code",
   "execution_count": null,
   "id": "31593fb5",
   "metadata": {},
   "outputs": [],
   "source": [
    "import os\n",
    "import matplotlib.pyplot as plt\n",
    "\n",
    "# --- Paths (unchanged) ---\n",
    "out_dir = \"../01_Data/processed\"\n",
    "fig_dir = \"../03_Analysis/figures\"\n",
    "os.makedirs(out_dir, exist_ok=True)\n",
    "os.makedirs(fig_dir, exist_ok=True)\n",
    "\n",
    "# --- Save CSVs (unchanged) ---\n",
    "rfm.to_csv(os.path.join(out_dir, \"customer_rfm_segments.csv\"), index=False)\n",
    "monthly_revenue[['YearMonth','LineAmount']].to_csv(os.path.join(out_dir, \"monthly_revenue.csv\"), index=False)\n",
    "top_products.to_csv(os.path.join(out_dir, \"top_products.csv\"), index=False)\n",
    "\n",
    "# =========================\n",
    "# Cyberpunk chart styling\n",
    "# =========================\n",
    "plt.style.use('dark_background')\n",
    "\n",
    "BG      = \"#0B0B1E\"   # deep navy background\n",
    "GRID    = \"#1F2340\"   # subtle grid\n",
    "AX      = \"#C9D1D9\"   # axis/label text color\n",
    "TITLE   = \"#FF4FD8\"   # magenta title\n",
    "CYAN    = \"#00CFFF\"\n",
    "PINK    = \"#FF0080\"\n",
    "ORANGE  = \"#FF6A00\"\n",
    "PURPLE  = \"#7A00FF\"\n",
    "\n",
    "NEON_PALETTE = [PURPLE, PINK, ORANGE, CYAN]\n",
    "\n",
    "def style_axes(ax):\n",
    "    ax.set_facecolor(BG)\n",
    "    for spine in ax.spines.values():\n",
    "        spine.set_color(GRID)\n",
    "        spine.set_linewidth(1.2)\n",
    "    ax.tick_params(colors=AX, labelsize=10)\n",
    "    ax.grid(True, color=GRID, linewidth=0.8, alpha=0.6)\n",
    "\n",
    "# =========================\n",
    "# 1) Monthly Revenue (Line)\n",
    "# =========================\n",
    "fig, ax = plt.subplots(figsize=(11,5), facecolor=BG)\n",
    "style_axes(ax)\n",
    "\n",
    "ax.plot(\n",
    "    monthly_revenue['YearMonth'],\n",
    "    monthly_revenue['LineAmount'],\n",
    "    color=CYAN,\n",
    "    linewidth=2.5,\n",
    "    marker='o',\n",
    "    markersize=5,\n",
    "    markerfacecolor=PINK,\n",
    "    markeredgecolor=BG,\n",
    ")\n",
    "\n",
    "ax.set_title('📈 Monthly Revenue Trend', color=TITLE, fontsize=14, fontweight='bold', pad=14)\n",
    "ax.set_xlabel('Month', color=AX)\n",
    "ax.set_ylabel('Revenue (€)', color=AX)\n",
    "plt.xticks(rotation=45, ha='right')\n",
    "plt.tight_layout()\n",
    "plt.savefig(os.path.join(fig_dir, \"monthly_revenue.png\"), dpi=150, facecolor=BG)\n",
    "plt.show()\n",
    "\n",
    "# ===============================\n",
    "# 2) Top 10 Products (Horizontal Bar)\n",
    "# ===============================\n",
    "tp = top_products.sort_values(\"LineAmount\").tail(10)            # ensure top 10\n",
    "colors = (NEON_PALETTE * ((len(tp) // len(NEON_PALETTE)) + 1))[:len(tp)]\n",
    "\n",
    "fig, ax = plt.subplots(figsize=(11,6), facecolor=BG)\n",
    "style_axes(ax)\n",
    "\n",
    "ax.barh(tp[\"Description\"], tp[\"LineAmount\"], color=colors, edgecolor=BG, linewidth=1.2)\n",
    "ax.set_title('🏆 Top 10 Products by Revenue', color=TITLE, fontsize=14, fontweight='bold', pad=14)\n",
    "ax.set_xlabel('Revenue (€)', color=AX)\n",
    "ax.set_ylabel('Product', color=AX)\n",
    "ax.invert_yaxis()  # highest at top\n",
    "plt.tight_layout()\n",
    "plt.savefig(os.path.join(fig_dir, \"top_products.png\"), dpi=150, facecolor=BG)\n",
    "plt.show()\n",
    "\n",
    "# =========================\n",
    "# 3) RFM Segments (Full Pie)\n",
    "# =========================\n",
    "fig, ax = plt.subplots(figsize=(6.5,6.5), facecolor=BG)\n",
    "ax.set_facecolor(BG)\n",
    "\n",
    "wedges, texts, autotexts = ax.pie(\n",
    "    segment_summary['Customers'],\n",
    "    labels=segment_summary['Segment'],\n",
    "    autopct='%1.1f%%',\n",
    "    startangle=120,\n",
    "    colors=NEON_PALETTE,\n",
    "    textprops={'color':'white', 'fontsize':10},\n",
    "    wedgeprops=dict(edgecolor=\"#121232\", linewidth=1.2)\n",
    ")\n",
    "\n",
    "ax.set_title('🧠 Customer Segmentation (RFM)', color=TITLE, fontsize=14, fontweight='bold', pad=18)\n",
    "plt.tight_layout()\n",
    "plt.savefig(os.path.join(fig_dir, \"rfm_segments.png\"), dpi=150, facecolor=BG)\n",
    "plt.show()\n",
    "\n",
    "print(\"✅ Saved CSVs to:\", out_dir)\n",
    "print(\"✅ Saved figures to:\", fig_dir)\n",
    "\n",
    "\n",
    "\n"
   ]
  },
  {
   "cell_type": "markdown",
   "id": "f2c378bc",
   "metadata": {},
   "source": [
    "### ✅ Export Verification  \n",
    "Finally, let's verify that all key files and visuals have been successfully saved.  \n",
    "\n",
    "This quick check lists:  \n",
    "- All **exported CSV datasets** in `01_Data/processed/`  \n",
    "- All **generated figures** in `03_Analysis/figures/`  \n",
    "\n",
    "It ensures the project is clean, reproducible, and ready for portfolio upload 🚀\n"
   ]
  },
  {
   "cell_type": "code",
   "execution_count": null,
   "id": "89dfe3bd",
   "metadata": {},
   "outputs": [],
   "source": [
    "print(\"🎯 Exports complete.\")\n",
    "print(\"- CSVs:\", [p for p in os.listdir(out_dir) if p.endswith('.csv')])\n",
    "print(\"- Figures:\", [p for p in os.listdir(fig_dir) if p.endswith('.png')])\n"
   ]
  },
  {
   "cell_type": "markdown",
   "id": "956eedbf",
   "metadata": {},
   "source": [
    "## 🧩 11) Insights Summary  \n",
    "\n",
    "**Business Insights**\n",
    "- The business generated **€10.6M+** total revenue post-cleaning.  \n",
    "- **Q4 (Sept–Nov)** marks the highest sales due to seasonal demand.  \n",
    "- A small portion of **“Champion”** customers drive the majority of revenue.  \n",
    "- Many **“At Risk”** customers indicate potential for win-back campaigns.  \n",
    "\n",
    "**Analytical Takeaways**\n",
    "- SQL enabled efficient cleaning & validation of 500K+ rows.  \n",
    "- Python (Pandas + Matplotlib) powered data storytelling and export pipelines.  \n",
    "- The modular structure supports future automation and dashboarding.\n"
   ]
  },
  {
   "cell_type": "markdown",
   "id": "7aedddef",
   "metadata": {},
   "source": [
    "## 🚀 12) Next Steps  \n",
    "📍 **Phase 2: Python + BI Integration**  \n",
    "- Connect MySQL → Python (SQLAlchemy) → Tableau / Power BI  \n",
    "- Create automated dashboards for real-time KPI tracking  \n",
    "- Expand with **Customer Lifetime Value (CLV)** and **Churn Prediction Models**  \n",
    "- Implement scheduling via **Airflow** or **dbt**  \n",
    "\n",
    "📍 **Phase 3: Advanced Modeling**  \n",
    "- Apply machine learning for segmentation, forecasting, and recommendation  \n",
    "- Build automated data pipelines with Snowflake or AWS Redshift\n"
   ]
  },
  {
   "cell_type": "markdown",
   "id": "c767f3f8",
   "metadata": {},
   "source": [
    "## 🧠 13) Key Learnings  \n",
    "- End-to-end control from raw data → analytics → visualization.  \n",
    "- Secure connection handling with environment-safe credentials (`getpass`).  \n",
    "- Importance of data validation before business decisions.  \n",
    "- Visualization and styling matter — clarity meets aesthetics.  \n"
   ]
  },
  {
   "cell_type": "markdown",
   "id": "c31c6e7f",
   "metadata": {},
   "source": [
    "## 🏁 14) Final Words  \n",
    "This project showcases a **complete analytical journey** —  \n",
    "from messy raw retail data to structured insights ready for business intelligence and predictive modeling.  \n",
    "\n",
    "💡 The modular SQL-Python workflow ensures this project can scale into a full data product — ideal for portfolio demonstration and interviews.\n"
   ]
  },
  {
   "cell_type": "markdown",
   "id": "6e8e2218",
   "metadata": {},
   "source": [
    "---\n",
    "👨‍💻 **Author:** Huzeif Khan  \n",
    "📍 Berlin, Germany | 💼 Data Analyst / BI Analyst  \n",
    "🔗 [LinkedIn](https://www.linkedin.com/in/huzeif-khan-651042274/) | [GitHub](https://github.com/HuzeifKhan)\n",
    "---\n"
   ]
  }
 ],
 "metadata": {
  "kernelspec": {
   "display_name": "Python 3",
   "language": "python",
   "name": "python3"
  },
  "language_info": {
   "codemirror_mode": {
    "name": "ipython",
    "version": 3
   },
   "file_extension": ".py",
   "mimetype": "text/x-python",
   "name": "python",
   "nbconvert_exporter": "python",
   "pygments_lexer": "ipython3",
   "version": "3.13.7"
  }
 },
 "nbformat": 4,
 "nbformat_minor": 5
}
